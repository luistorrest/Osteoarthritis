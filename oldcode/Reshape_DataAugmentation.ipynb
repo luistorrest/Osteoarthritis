{
 "cells": [
  {
   "cell_type": "code",
   "execution_count": 1,
   "id": "1beba444",
   "metadata": {},
   "outputs": [],
   "source": [
    "from PIL import Image\n",
    "import os\n",
    "import torch\n",
    "import torchvision.transforms as transforms\n",
    "from torchvision.utils import save_image\n"
   ]
  },
  {
   "cell_type": "markdown",
   "id": "9564a80c",
   "metadata": {},
   "source": [
    "### Función que permite hacer un reshape del tamaño de las imagenes a 224*224"
   ]
  },
  {
   "cell_type": "code",
   "execution_count": null,
   "id": "6a51833f",
   "metadata": {},
   "outputs": [],
   "source": [
    "\n",
    "def resize_images(folder_path, new_size=(224, 224)):\n",
    "    # Obtener la lista de archivos en la carpeta\n",
    "    files = os.listdir(folder_path)\n",
    "    output_dir = 'Osteoartritis/Processing/Valid/Ostheo'\n",
    "    # Inicializar contador para el número en el nombre de la imagen\n",
    "    num = 1\n",
    "    \n",
    "    # Iterar sobre cada archivo en la carpeta\n",
    "    for file_name in files:\n",
    "        # Verificar si el archivo es una imagen\n",
    "        if file_name.endswith(('.jpg', '.jpeg', '.png', '.gif')):\n",
    "            # Construir la ruta completa del archivo\n",
    "            file_path = os.path.join(folder_path, file_name)\n",
    "            \n",
    "            # Abrir la imagen\n",
    "            img = Image.open(file_path)\n",
    "            \n",
    "            # Cambiar el tamaño de la imagen\n",
    "            resized_img = img.resize(new_size)\n",
    "            \n",
    "            # Construir el nuevo nombre de la imagen redimensionada\n",
    "            new_name = f\"resized_osteortritis_{num}\"\n",
    "            \n",
    "            # Guardar la imagen redimensionada con el nuevo nombre\n",
    "            resized_img.save(os.path.join(output_dir, new_name + \".png\"))\n",
    "            \n",
    "            # Incrementar el contador\n",
    "            num += 1\n",
    "\n",
    "# Ruta de la carpeta que contiene las imágenes\n",
    "folder_path = \"Osteoartritis/Dataset/Valid/Valid/Osteoarthritis\"\n",
    "\n",
    "# Cambiar el tamaño de las imágenes en la carpeta y cambiarles el nombre\n",
    "resize_images(folder_path)"
   ]
  },
  {
   "cell_type": "markdown",
   "id": "43d494af",
   "metadata": {},
   "source": [
    "## Data Augmentation using Pytorch"
   ]
  },
  {
   "cell_type": "markdown",
   "id": "e06f92ff",
   "metadata": {},
   "source": [
    "###### Función para agregar ruido gaussiano a las imagenes"
   ]
  },
  {
   "cell_type": "code",
   "execution_count": null,
   "id": "a09b8828",
   "metadata": {},
   "outputs": [],
   "source": [
    "def add_gaussian_noise(img):\n",
    "    \n",
    "    assert isinstance(img, torch.Tensor)\n",
    "    dtype = img.dtype\n",
    "    if not img.is_floating_point():\n",
    "        img = img.to(torch.float32)\n",
    "    \n",
    "    # Genera un valor aleatorio sigma entre 0 y 0.1\n",
    "    sigma = torch.rand(1) * 1e-5\n",
    "    \n",
    "    out = img + sigma * torch.randn_like(img)\n",
    "    \n",
    "    if out.dtype != dtype:\n",
    "        out = out.to(dtype)\n",
    "        \n",
    "    return out\n",
    "\n"
   ]
  },
  {
   "cell_type": "markdown",
   "id": "d70e7b29",
   "metadata": {},
   "source": [
    "###### Definición de transformacion"
   ]
  },
  {
   "cell_type": "code",
   "execution_count": null,
   "id": "7ccd0bf9",
   "metadata": {},
   "outputs": [],
   "source": [
    "\n",
    "transform_img = transforms.Compose([\n",
    "    transforms.Resize((224,224)),\n",
    "    transforms.ColorJitter(brightness=0.5),\n",
    "    transforms.RandomRotation(degrees=5),\n",
    "    transforms.RandomHorizontalFlip(p=0.2),\n",
    "    transforms.RandomAffine(degrees=0, scale=(0.8, 1.2))\n",
    "])\n"
   ]
  },
  {
   "cell_type": "code",
   "execution_count": null,
   "id": "4fea638f",
   "metadata": {},
   "outputs": [],
   "source": [
    "img =  Image.open(\"Osteoartritis/Processing/Train/Ostheo/resized_osteortritis_5.png\")\n",
    "transform_img(img)"
   ]
  },
  {
   "cell_type": "markdown",
   "id": "0fbbb43d",
   "metadata": {},
   "source": [
    "##### Función que permite hacer data augmentation, pasando como parametro la direccion de la carpeta donde se encuentran las imagenes originales y la direccion donde se van a guardar las nuevas imagenes sinteticas. Se generan 3 imagenes sinteticas por cada imagen original"
   ]
  },
  {
   "cell_type": "code",
   "execution_count": 10,
   "id": "c9f42d79",
   "metadata": {},
   "outputs": [],
   "source": [
    "\n",
    "def data_augmentation(folder_path, output_path):\n",
    "    # Obtener la lista de archivos en la carpeta\n",
    "    files = os.listdir(folder_path)\n",
    "\n",
    "    # Inicializar contador para el número en el nombre de la imagen\n",
    "    num = 1\n",
    "\n",
    "    # Definir el transformador\n",
    "    transform_img = transforms.Compose([\n",
    "        transforms.Resize((224,224)),\n",
    "        #transforms.ColorJitter(brightness=0.5),\n",
    "        transforms.RandomRotation(degrees=5),\n",
    "        transforms.RandomHorizontalFlip(p=0.2),\n",
    "        transforms.RandomAffine(degrees=0, scale=(0.8, 1.2))\n",
    "    ])\n",
    "\n",
    "    # Iterar sobre cada archivo en la carpeta\n",
    "    for file_name in files:\n",
    "        # Verificar si el archivo es una imagen\n",
    "        if file_name.endswith(('.jpg', '.jpeg', '.png', '.gif')):\n",
    "            # Construir la ruta completa del archivo\n",
    "            file_path = os.path.join(folder_path, file_name)\n",
    "\n",
    "            # Abrir la imagen\n",
    "            img = Image.open(file_path)\n",
    "            # Aplicar transformaciones\n",
    "  \n",
    "            transformed_image = transform_img(img)\n",
    "\n",
    "            # Construir el nuevo nombre de la imagen\n",
    "            new_name = f\"DAug_osteoartritis_{num}\"\n",
    "\n",
    "            # Guardar la imagen transformada con el nuevo nombre\n",
    "            transformed_image.save(os.path.join(output_path, new_name + \".png\"))\n",
    "\n",
    "\n",
    "            # Incrementar el contador\n",
    "            num += 1\n",
    "            "
   ]
  },
  {
   "cell_type": "code",
   "execution_count": 11,
   "id": "fc56cc28",
   "metadata": {},
   "outputs": [],
   "source": [
    "# Ruta de la carpeta que contiene las imágenes de Train - Osteoartritis\n",
    "folder_path = \"Osteoartritis/Processing/Train/Ostheo\"\n",
    "out_path = \"Osteoartritis/Processing/Data_augmentation_train/Osteo\"\n",
    "data_augmentation(folder_path,out_path)"
   ]
  },
  {
   "cell_type": "code",
   "execution_count": null,
   "id": "19487218",
   "metadata": {},
   "outputs": [],
   "source": [
    "# Ruta de la carpeta que contiene las imágenes de Train - Normal\n",
    "folder_path = \"Osteoartritis/Processing/Train/Normal\"\n",
    "out_path = \"Osteoartritis/Processing/Data_augmentation_train/Normal\"\n",
    "data_augmentation(folder_path,out_path)"
   ]
  },
  {
   "cell_type": "code",
   "execution_count": null,
   "id": "2c90eed3",
   "metadata": {},
   "outputs": [],
   "source": []
  },
  {
   "cell_type": "code",
   "execution_count": null,
   "id": "d6bbca3a",
   "metadata": {},
   "outputs": [],
   "source": []
  },
  {
   "cell_type": "code",
   "execution_count": null,
   "id": "59caf169",
   "metadata": {},
   "outputs": [],
   "source": []
  },
  {
   "cell_type": "code",
   "execution_count": null,
   "id": "1f78db77",
   "metadata": {},
   "outputs": [],
   "source": []
  },
  {
   "cell_type": "code",
   "execution_count": null,
   "id": "252a3fa3",
   "metadata": {},
   "outputs": [],
   "source": []
  }
 ],
 "metadata": {
  "kernelspec": {
   "display_name": "Python 3 (ipykernel)",
   "language": "python",
   "name": "python3"
  },
  "language_info": {
   "codemirror_mode": {
    "name": "ipython",
    "version": 3
   },
   "file_extension": ".py",
   "mimetype": "text/x-python",
   "name": "python",
   "nbconvert_exporter": "python",
   "pygments_lexer": "ipython3",
   "version": "3.11.5"
  }
 },
 "nbformat": 4,
 "nbformat_minor": 5
}
